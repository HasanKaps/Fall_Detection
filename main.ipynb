{
 "cells": [
  {
   "cell_type": "code",
   "execution_count": 26,
   "metadata": {},
   "outputs": [],
   "source": [
    "import cv2\n",
    "import mediapipe as mp\n",
    "import numpy as np"
   ]
  },
  {
   "cell_type": "code",
   "execution_count": 27,
   "metadata": {},
   "outputs": [],
   "source": [
    "mp_drawing = mp.solutions.drawing_utils   # type: ignore\n",
    "mp_drawing_styles = mp.solutions.drawing_styles  # type: ignore\n",
    "mp_pose = mp.solutions.pose  # type: ignore"
   ]
  },
  {
   "cell_type": "code",
   "execution_count": 28,
   "metadata": {},
   "outputs": [],
   "source": [
    "# For webcam input:\n",
    "cap = cv2.VideoCapture(\"datasets/chute01/cam1.avi\")"
   ]
  },
  {
   "cell_type": "code",
   "execution_count": 29,
   "metadata": {},
   "outputs": [],
   "source": [
    "#Variables\n",
    "Title = \"Fall Detection\""
   ]
  },
  {
   "cell_type": "code",
   "execution_count": 30,
   "metadata": {},
   "outputs": [],
   "source": [
    "#Pose Detection Model variables\n",
    "with mp_pose.Pose(\n",
    "   min_detection_confidence=0.5,\n",
    "   min_tracking_confidence=0.5,\n",
    "   static_image_mode=False,\n",
    "   model_complexity=2,\n",
    "   smooth_landmarks=True,\n",
    "   enable_segmentation=True,\n",
    "   smooth_segmentation=True\n",
    ") as pose:\n",
    "  \n",
    "  #Loop to read the video\n",
    "  while cap.isOpened():\n",
    "    success, video = cap.read()\n",
    "\n",
    "    #if the there is no video or frames being played, it will close the window\n",
    "    if not success:\n",
    "        cv2.destroyWindow(Title)\n",
    "        cv2.destroyWindow(\"Person\")\n",
    "        break\n",
    "\n",
    "    hog = cv2.HOGDescriptor()\n",
    "    hog.setSVMDetector(cv2.HOGDescriptor_getDefaultPeopleDetector())\n",
    "    (regions, _) = hog.detectMultiScale(video,\n",
    "                                        winStride=(4, 4),\n",
    "                                        padding=(4, 4),\n",
    "                                        scale=1.05)\n",
    "    \n",
    "    #removing the background apart from the person\n",
    "    for (x, y, w, h) in regions:\n",
    "        #cut the person out of the video\n",
    "        test = video[y:y+h, x:x+w]\n",
    "    # Draw the pose annotation on the video.\n",
    "    video.flags.writeable = True\n",
    "    results = pose.process(video)\n",
    "    mp_drawing.draw_landmarks(\n",
    "        video,\n",
    "        results.pose_landmarks,\n",
    "        mp_pose.POSE_CONNECTIONS,\n",
    "        landmark_drawing_spec=mp_drawing_styles.get_default_pose_landmarks_style())\n",
    "    \n",
    "\n",
    "    \n",
    "    def fall_detection():\n",
    "\n",
    "        if results.pose_landmarks is not None:\n",
    "            if results.pose_landmarks.landmark[mp_pose.PoseLandmark.LEFT_WRIST].y > 0.9 or results.pose_landmarks.landmark[mp_pose.PoseLandmark.RIGHT_WRIST].y > 0.9 or results.pose_landmarks.landmark[mp_pose.PoseLandmark.LEFT_ANKLE].y > 0.9 or results.pose_landmarks.landmark[mp_pose.PoseLandmark.RIGHT_ANKLE].y > 0.9 or results.pose_landmarks.landmark[mp_pose.PoseLandmark.LEFT_KNEE].y > 0.9 or results.pose_landmarks.landmark[mp_pose.PoseLandmark.RIGHT_KNEE].y > 0.9 or results.pose_landmarks.landmark[mp_pose.PoseLandmark.LEFT_HIP].y > 0.9 or results.pose_landmarks.landmark[mp_pose.PoseLandmark.RIGHT_HIP].y > 0.9 or results.pose_landmarks.landmark[mp_pose.PoseLandmark.LEFT_HIP].y > 0.9:\n",
    "                print(\"Fall Detected\")\n",
    "                cv2.putText(video, \"Fall Detected\", (50, 50), cv2.FONT_HERSHEY_SIMPLEX, 1, (0, 0, 255), 2, cv2.LINE_AA)\n",
    "    \n",
    "    fall_detection()\n",
    "\n",
    "    cv2.imshow(Title, video)\n",
    "    cv2.imshow(\"Person\", test) # type: ignore\n",
    "\n",
    "    if cv2.waitKey(5) & 0xFF == 27:\n",
    "        cv2.destroyWindow(Title)\n",
    "        break"
   ]
  }
 ],
 "metadata": {
  "kernelspec": {
   "display_name": "Python 3",
   "language": "python",
   "name": "python3"
  },
  "language_info": {
   "codemirror_mode": {
    "name": "ipython",
    "version": 3
   },
   "file_extension": ".py",
   "mimetype": "text/x-python",
   "name": "python",
   "nbconvert_exporter": "python",
   "pygments_lexer": "ipython3",
   "version": "3.7.9"
  },
  "orig_nbformat": 4
 },
 "nbformat": 4,
 "nbformat_minor": 2
}
